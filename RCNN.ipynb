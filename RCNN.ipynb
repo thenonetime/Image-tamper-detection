{
 "cells": [
  {
   "cell_type": "code",
   "execution_count": 2,
   "id": "initial_id",
   "metadata": {
    "ExecuteTime": {
     "start_time": "2025-02-20T21:32:47.024049Z"
    },
    "is_executing": true
   },
   "outputs": [
    {
     "name": "stderr",
     "output_type": "stream",
     "text": [
      "Epoch 0 Training:   0%|                    | 7/2600 [00:02<17:06,  2.53it/s, loss=0.119]"
     ]
    },
    {
     "name": "stdout",
     "output_type": "stream",
     "text": [
      "发现无效框，已过滤: [152.0, 20.0, 152.0, 91.0] in train_13271.jpg\n"
     ]
    },
    {
     "name": "stderr",
     "output_type": "stream",
     "text": [
      "Epoch 0 Training:   2%|▎                   | 41/2600 [00:14<13:57,  3.05it/s, loss=0.0889]"
     ]
    },
    {
     "name": "stdout",
     "output_type": "stream",
     "text": [
      "发现无效框，已过滤: [203.0, 19.0, 203.0, 89.0] in train_13554.jpg\n"
     ]
    },
    {
     "name": "stderr",
     "output_type": "stream",
     "text": [
      "Epoch 0 Training:  24%|████▊               | 623/2600 [03:44<11:56,  2.76it/s, loss=0.0748] "
     ]
    },
    {
     "name": "stdout",
     "output_type": "stream",
     "text": [
      "发现无效框，已过滤: [685.0, 159.0, 685.0, 215.0] in train_13679.jpg\n"
     ]
    },
    {
     "name": "stderr",
     "output_type": "stream",
     "text": [
      "Epoch 0 Training:  70%|█████████████▉      | 1815/2600 [10:58<05:52,  2.23it/s, loss=0.0401] "
     ]
    },
    {
     "name": "stdout",
     "output_type": "stream",
     "text": [
      "发现无效框，已过滤: [165.0, 111.0, 165.0, 179.0] in train_13134.jpg\n"
     ]
    },
    {
     "name": "stderr",
     "output_type": "stream",
     "text": [
      "Epoch 0 Training:  75%|███████████████     | 1961/2600 [11:51<03:46,  2.83it/s, loss=0.0227] "
     ]
    },
    {
     "name": "stdout",
     "output_type": "stream",
     "text": [
      "发现无效框，已过滤: [511.0, 157.0, 511.0, 278.0] in train_13605.jpg\n"
     ]
    },
    {
     "name": "stderr",
     "output_type": "stream",
     "text": [
      "Epoch 0 Training: 100%|████████████████████| 2600/2600 [15:43<00:00,  2.76it/s, loss=0.0731] \n",
      "Validating:  84%|████████████████▊   | 547/650 [01:38<00:16,  6.21it/s]"
     ]
    },
    {
     "name": "stdout",
     "output_type": "stream",
     "text": [
      "发现无效框，已过滤: [457.0, 60.0, 457.0, 91.0] in train_13338.jpg\n"
     ]
    },
    {
     "name": "stderr",
     "output_type": "stream",
     "text": [
      "Validating: 100%|████████████████████| 650/650 [01:56<00:00,  5.59it/s]\n"
     ]
    },
    {
     "name": "stdout",
     "output_type": "stream",
     "text": [
      "\n",
      "Epoch 1/15\n",
      "Train Loss: 0.0677\n",
      "Validation Metrics: Precision=0.7413, Recall=0.2897, F1=0.4166\n",
      "↦ 保存新最佳模型\n"
     ]
    },
    {
     "name": "stderr",
     "output_type": "stream",
     "text": [
      "Epoch 1 Training:  17%|███▎                | 431/2600 [02:36<12:49,  2.82it/s, loss=0.0859] "
     ]
    },
    {
     "name": "stdout",
     "output_type": "stream",
     "text": [
      "发现无效框，已过滤: [165.0, 111.0, 165.0, 179.0] in train_13134.jpg\n"
     ]
    },
    {
     "name": "stderr",
     "output_type": "stream",
     "text": [
      "Epoch 1 Training:  38%|███████▌            | 981/2600 [06:01<09:48,  2.75it/s, loss=0.0158] "
     ]
    },
    {
     "name": "stdout",
     "output_type": "stream",
     "text": [
      "发现无效框，已过滤: [203.0, 19.0, 203.0, 89.0] in train_13554.jpg\n"
     ]
    },
    {
     "name": "stderr",
     "output_type": "stream",
     "text": [
      "Epoch 1 Training:  46%|█████████▎          | 1205/2600 [07:23<11:01,  2.11it/s, loss=0.0274] "
     ]
    },
    {
     "name": "stdout",
     "output_type": "stream",
     "text": [
      "发现无效框，已过滤: [685.0, 159.0, 685.0, 215.0] in train_13679.jpg\n"
     ]
    },
    {
     "name": "stderr",
     "output_type": "stream",
     "text": [
      "Epoch 1 Training:  47%|█████████▍          | 1230/2600 [07:32<08:18,  2.75it/s, loss=0.0768] "
     ]
    },
    {
     "name": "stdout",
     "output_type": "stream",
     "text": [
      "发现无效框，已过滤: [152.0, 20.0, 152.0, 91.0] in train_13271.jpg\n"
     ]
    },
    {
     "name": "stderr",
     "output_type": "stream",
     "text": [
      "Epoch 1 Training:  73%|██████████████▋     | 1908/2600 [11:35<03:55,  2.94it/s, loss=0.0262]  "
     ]
    },
    {
     "name": "stdout",
     "output_type": "stream",
     "text": [
      "发现无效框，已过滤: [511.0, 157.0, 511.0, 278.0] in train_13605.jpg\n"
     ]
    },
    {
     "name": "stderr",
     "output_type": "stream",
     "text": [
      "Epoch 1 Training: 100%|████████████████████| 2600/2600 [15:50<00:00,  2.74it/s, loss=0.164]   \n",
      "Validating:  84%|████████████████▊   | 547/650 [01:38<00:16,  6.12it/s]"
     ]
    },
    {
     "name": "stdout",
     "output_type": "stream",
     "text": [
      "发现无效框，已过滤: [457.0, 60.0, 457.0, 91.0] in train_13338.jpg\n"
     ]
    },
    {
     "name": "stderr",
     "output_type": "stream",
     "text": [
      "Validating: 100%|████████████████████| 650/650 [01:55<00:00,  5.61it/s]\n"
     ]
    },
    {
     "name": "stdout",
     "output_type": "stream",
     "text": [
      "\n",
      "Epoch 2/15\n",
      "Train Loss: 0.0502\n",
      "Validation Metrics: Precision=0.2128, Recall=0.7780, F1=0.3342\n"
     ]
    },
    {
     "name": "stderr",
     "output_type": "stream",
     "text": [
      "Epoch 2 Training:  23%|████▌               | 599/2600 [03:43<12:54,  2.59it/s, loss=0.0286]  "
     ]
    },
    {
     "name": "stdout",
     "output_type": "stream",
     "text": [
      "发现无效框，已过滤: [152.0, 20.0, 152.0, 91.0] in train_13271.jpg\n"
     ]
    },
    {
     "name": "stderr",
     "output_type": "stream",
     "text": [
      "Epoch 2 Training:  28%|█████▋              | 734/2600 [04:33<12:38,  2.46it/s, loss=0.0903] "
     ]
    },
    {
     "name": "stdout",
     "output_type": "stream",
     "text": [
      "发现无效框，已过滤: [685.0, 159.0, 685.0, 215.0] in train_13679.jpg\n"
     ]
    },
    {
     "name": "stderr",
     "output_type": "stream",
     "text": [
      "Epoch 2 Training:  47%|█████████▍          | 1227/2600 [07:31<09:19,  2.45it/s, loss=0.0216]  "
     ]
    },
    {
     "name": "stdout",
     "output_type": "stream",
     "text": [
      "发现无效框，已过滤: [511.0, 157.0, 511.0, 278.0] in train_13605.jpg\n"
     ]
    },
    {
     "name": "stderr",
     "output_type": "stream",
     "text": [
      "Epoch 2 Training: 100%|████████████████████| 2600/2600 [15:53<00:00,  2.73it/s, loss=0.0516]  \n",
      "Validating:  84%|████████████████▊   | 547/650 [01:37<00:16,  6.24it/s]"
     ]
    },
    {
     "name": "stdout",
     "output_type": "stream",
     "text": [
      "发现无效框，已过滤: [457.0, 60.0, 457.0, 91.0] in train_13338.jpg\n"
     ]
    },
    {
     "name": "stderr",
     "output_type": "stream",
     "text": [
      "Validating: 100%|████████████████████| 650/650 [01:54<00:00,  5.67it/s]\n"
     ]
    },
    {
     "name": "stdout",
     "output_type": "stream",
     "text": [
      "\n",
      "Epoch 3/15\n",
      "Train Loss: 0.0424\n",
      "Validation Metrics: Precision=0.6029, Recall=0.7247, F1=0.6582\n",
      "↦ 保存新最佳模型\n"
     ]
    },
    {
     "name": "stderr",
     "output_type": "stream",
     "text": [
      "Epoch 3 Training:  16%|███▎                | 429/2600 [02:34<13:12,  2.74it/s, loss=0.00598] "
     ]
    },
    {
     "name": "stdout",
     "output_type": "stream",
     "text": [
      "发现无效框，已过滤: [511.0, 157.0, 511.0, 278.0] in train_13605.jpg\n"
     ]
    },
    {
     "name": "stderr",
     "output_type": "stream",
     "text": [
      "Epoch 3 Training:  20%|███▉                | 513/2600 [03:05<11:29,  3.03it/s, loss=0.0365]  IOPub message rate exceeded.\n",
      "The Jupyter server will temporarily stop sending output\n",
      "to the client in order to avoid crashing it.\n",
      "To change this limit, set the config variable\n",
      "`--ServerApp.iopub_msg_rate_limit`.\n",
      "\n",
      "Current values:\n",
      "ServerApp.iopub_msg_rate_limit=1000.0 (msgs/sec)\n",
      "ServerApp.rate_limit_window=3.0 (secs)\n",
      "\n",
      "Epoch 3 Training: 100%|████████████████████| 2600/2600 [15:41<00:00,  2.76it/s, loss=0.0131]  \n",
      "Validating:  84%|████████████████▊   | 547/650 [01:37<00:16,  6.16it/s]"
     ]
    },
    {
     "name": "stdout",
     "output_type": "stream",
     "text": [
      "发现无效框，已过滤: [457.0, 60.0, 457.0, 91.0] in train_13338.jpg\n"
     ]
    },
    {
     "name": "stderr",
     "output_type": "stream",
     "text": [
      "Validating: 100%|████████████████████| 650/650 [01:55<00:00,  5.64it/s]\n"
     ]
    },
    {
     "name": "stdout",
     "output_type": "stream",
     "text": [
      "\n",
      "Epoch 4/15\n",
      "Train Loss: 0.0306\n",
      "Validation Metrics: Precision=0.6051, Recall=0.8078, F1=0.6919\n",
      "↦ 保存新最佳模型\n"
     ]
    },
    {
     "name": "stderr",
     "output_type": "stream",
     "text": [
      "Epoch 4 Training:   1%|▎                   | 35/2600 [00:12<14:03,  3.04it/s, loss=0.0167] "
     ]
    },
    {
     "name": "stdout",
     "output_type": "stream",
     "text": [
      "发现无效框，已过滤: [165.0, 111.0, 165.0, 179.0] in train_13134.jpg\n"
     ]
    },
    {
     "name": "stderr",
     "output_type": "stream",
     "text": [
      "Epoch 4 Training:  73%|██████████████▌     | 1893/2600 [11:25<05:20,  2.21it/s, loss=0.00778] "
     ]
    },
    {
     "name": "stdout",
     "output_type": "stream",
     "text": [
      "发现无效框，已过滤: [685.0, 159.0, 685.0, 215.0] in train_13679.jpg\n"
     ]
    },
    {
     "name": "stderr",
     "output_type": "stream",
     "text": [
      "Epoch 4 Training:  76%|███████████████▏    | 1982/2600 [11:58<04:13,  2.44it/s, loss=0.0242]  "
     ]
    },
    {
     "name": "stdout",
     "output_type": "stream",
     "text": [
      "发现无效框，已过滤: [152.0, 20.0, 152.0, 91.0] in train_13271.jpg\n"
     ]
    },
    {
     "name": "stderr",
     "output_type": "stream",
     "text": [
      "Epoch 4 Training:  86%|█████████████████▎  | 2247/2600 [13:37<02:37,  2.24it/s, loss=0.013]   "
     ]
    },
    {
     "name": "stdout",
     "output_type": "stream",
     "text": [
      "发现无效框，已过滤: [203.0, 19.0, 203.0, 89.0] in train_13554.jpg\n"
     ]
    },
    {
     "name": "stderr",
     "output_type": "stream",
     "text": [
      "Epoch 4 Training:  92%|██████████████████▎ | 2380/2600 [14:25<01:13,  2.99it/s, loss=0.00295] "
     ]
    },
    {
     "name": "stdout",
     "output_type": "stream",
     "text": [
      "发现无效框，已过滤: [511.0, 157.0, 511.0, 278.0] in train_13605.jpg\n"
     ]
    },
    {
     "name": "stderr",
     "output_type": "stream",
     "text": [
      "Epoch 4 Training: 100%|████████████████████| 2600/2600 [15:45<00:00,  2.75it/s, loss=0.192]   \n",
      "Validating:  84%|████████████████▊   | 547/650 [01:37<00:16,  6.15it/s]"
     ]
    },
    {
     "name": "stdout",
     "output_type": "stream",
     "text": [
      "发现无效框，已过滤: [457.0, 60.0, 457.0, 91.0] in train_13338.jpg\n"
     ]
    },
    {
     "name": "stderr",
     "output_type": "stream",
     "text": [
      "Validating: 100%|████████████████████| 650/650 [01:55<00:00,  5.64it/s]\n"
     ]
    },
    {
     "name": "stdout",
     "output_type": "stream",
     "text": [
      "\n",
      "Epoch 5/15\n",
      "Train Loss: 0.0278\n",
      "Validation Metrics: Precision=0.6689, Recall=0.8005, F1=0.7288\n",
      "↦ 保存新最佳模型\n"
     ]
    },
    {
     "name": "stderr",
     "output_type": "stream",
     "text": [
      "Epoch 5 Training:   6%|█▎                  | 163/2600 [01:01<15:55,  2.55it/s, loss=0.011]   "
     ]
    },
    {
     "name": "stdout",
     "output_type": "stream",
     "text": [
      "发现无效框，已过滤: [685.0, 159.0, 685.0, 215.0] in train_13679.jpg\n"
     ]
    },
    {
     "name": "stderr",
     "output_type": "stream",
     "text": [
      "Epoch 5 Training:   8%|█▌                  | 208/2600 [01:17<15:38,  2.55it/s, loss=0.0664] "
     ]
    },
    {
     "name": "stdout",
     "output_type": "stream",
     "text": [
      "发现无效框，已过滤: [203.0, 19.0, 203.0, 89.0] in train_13554.jpg\n"
     ]
    },
    {
     "name": "stderr",
     "output_type": "stream",
     "text": [
      "Epoch 5 Training:  47%|█████████▎          | 1218/2600 [07:23<07:14,  3.18it/s, loss=0.0208]  "
     ]
    },
    {
     "name": "stdout",
     "output_type": "stream",
     "text": [
      "发现无效框，已过滤: [511.0, 157.0, 511.0, 278.0] in train_13605.jpg\n"
     ]
    },
    {
     "name": "stderr",
     "output_type": "stream",
     "text": [
      "Epoch 5 Training:  60%|████████████        | 1572/2600 [09:30<06:38,  2.58it/s, loss=0.00111] "
     ]
    },
    {
     "name": "stdout",
     "output_type": "stream",
     "text": [
      "发现无效框，已过滤: [165.0, 111.0, 165.0, 179.0] in train_13134.jpg\n"
     ]
    },
    {
     "name": "stderr",
     "output_type": "stream",
     "text": [
      "Epoch 5 Training:  61%|████████████▎       | 1597/2600 [09:39<05:58,  2.80it/s, loss=0.0448]  "
     ]
    },
    {
     "name": "stdout",
     "output_type": "stream",
     "text": [
      "发现无效框，已过滤: [152.0, 20.0, 152.0, 91.0] in train_13271.jpg\n"
     ]
    },
    {
     "name": "stderr",
     "output_type": "stream",
     "text": [
      "Epoch 5 Training: 100%|████████████████████| 2600/2600 [15:43<00:00,  2.76it/s, loss=0.0282]  \n",
      "Validating:  84%|████████████████▊   | 547/650 [01:38<00:16,  6.11it/s]"
     ]
    },
    {
     "name": "stdout",
     "output_type": "stream",
     "text": [
      "发现无效框，已过滤: [457.0, 60.0, 457.0, 91.0] in train_13338.jpg\n"
     ]
    },
    {
     "name": "stderr",
     "output_type": "stream",
     "text": [
      "Validating: 100%|████████████████████| 650/650 [01:56<00:00,  5.60it/s]\n"
     ]
    },
    {
     "name": "stdout",
     "output_type": "stream",
     "text": [
      "\n",
      "Epoch 6/15\n",
      "Train Loss: 0.0264\n",
      "Validation Metrics: Precision=0.6164, Recall=0.8294, F1=0.7072\n"
     ]
    },
    {
     "name": "stderr",
     "output_type": "stream",
     "text": [
      "Epoch 6 Training:  22%|████▍               | 572/2600 [03:33<12:57,  2.61it/s, loss=0.00737] "
     ]
    },
    {
     "name": "stdout",
     "output_type": "stream",
     "text": [
      "发现无效框，已过滤: [152.0, 20.0, 152.0, 91.0] in train_13271.jpg\n"
     ]
    },
    {
     "name": "stderr",
     "output_type": "stream",
     "text": [
      "Epoch 6 Training:  41%|████████▏           | 1064/2600 [06:32<08:27,  3.03it/s, loss=0.0249]  "
     ]
    },
    {
     "name": "stdout",
     "output_type": "stream",
     "text": [
      "发现无效框，已过滤: [203.0, 19.0, 203.0, 89.0] in train_13554.jpg\n"
     ]
    },
    {
     "name": "stderr",
     "output_type": "stream",
     "text": [
      "Epoch 6 Training:  49%|█████████▊          | 1270/2600 [07:45<08:04,  2.75it/s, loss=0.0158]  "
     ]
    },
    {
     "name": "stdout",
     "output_type": "stream",
     "text": [
      "发现无效框，已过滤: [685.0, 159.0, 685.0, 215.0] in train_13679.jpg\n"
     ]
    },
    {
     "name": "stderr",
     "output_type": "stream",
     "text": [
      "Epoch 6 Training:  74%|██████████████▋     | 1911/2600 [11:39<03:19,  3.46it/s, loss=0.00651] "
     ]
    },
    {
     "name": "stdout",
     "output_type": "stream",
     "text": [
      "发现无效框，已过滤: [165.0, 111.0, 165.0, 179.0] in train_13134.jpg\n"
     ]
    },
    {
     "name": "stderr",
     "output_type": "stream",
     "text": [
      "Epoch 6 Training:  92%|██████████████████▍ | 2404/2600 [14:37<01:13,  2.66it/s, loss=0.00777] "
     ]
    },
    {
     "name": "stdout",
     "output_type": "stream",
     "text": [
      "发现无效框，已过滤: [511.0, 157.0, 511.0, 278.0] in train_13605.jpg\n"
     ]
    },
    {
     "name": "stderr",
     "output_type": "stream",
     "text": [
      "Epoch 6 Training: 100%|████████████████████| 2600/2600 [15:47<00:00,  2.74it/s, loss=0.0435]  \n",
      "Validating:  84%|████████████████▊   | 547/650 [01:38<00:16,  6.21it/s]"
     ]
    },
    {
     "name": "stdout",
     "output_type": "stream",
     "text": [
      "发现无效框，已过滤: [457.0, 60.0, 457.0, 91.0] in train_13338.jpg\n"
     ]
    },
    {
     "name": "stderr",
     "output_type": "stream",
     "text": [
      "Validating: 100%|████████████████████| 650/650 [01:55<00:00,  5.61it/s]\n"
     ]
    },
    {
     "name": "stdout",
     "output_type": "stream",
     "text": [
      "\n",
      "Epoch 7/15\n",
      "Train Loss: 0.0248\n",
      "Validation Metrics: Precision=0.6292, Recall=0.8240, F1=0.7136\n"
     ]
    },
    {
     "name": "stderr",
     "output_type": "stream",
     "text": [
      "Epoch 7 Training:   3%|▌                   | 77/2600 [00:26<14:52,  2.83it/s, loss=0.024]   "
     ]
    },
    {
     "name": "stdout",
     "output_type": "stream",
     "text": [
      "发现无效框，已过滤: [152.0, 20.0, 152.0, 91.0] in train_13271.jpg\n"
     ]
    },
    {
     "name": "stderr",
     "output_type": "stream",
     "text": [
      "Epoch 7 Training:  25%|█████               | 655/2600 [03:56<11:13,  2.89it/s, loss=0.0184]  "
     ]
    },
    {
     "name": "stdout",
     "output_type": "stream",
     "text": [
      "发现无效框，已过滤: [165.0, 111.0, 165.0, 179.0] in train_13134.jpg\n"
     ]
    },
    {
     "name": "stderr",
     "output_type": "stream",
     "text": [
      "Epoch 7 Training:  61%|████████████▏       | 1589/2600 [09:30<07:09,  2.35it/s, loss=0.0428]  "
     ]
    },
    {
     "name": "stdout",
     "output_type": "stream",
     "text": [
      "发现无效框，已过滤: [685.0, 159.0, 685.0, 215.0] in train_13679.jpg\n"
     ]
    },
    {
     "name": "stderr",
     "output_type": "stream",
     "text": [
      "Epoch 7 Training:  74%|██████████████▊     | 1929/2600 [11:38<04:41,  2.38it/s, loss=0.0238]  "
     ]
    },
    {
     "name": "stdout",
     "output_type": "stream",
     "text": [
      "发现无效框，已过滤: [203.0, 19.0, 203.0, 89.0] in train_13554.jpg\n"
     ]
    },
    {
     "name": "stderr",
     "output_type": "stream",
     "text": [
      "Epoch 7 Training:  91%|██████████████████  | 2356/2600 [14:11<01:17,  3.16it/s, loss=0.0105]  "
     ]
    },
    {
     "name": "stdout",
     "output_type": "stream",
     "text": [
      "发现无效框，已过滤: [511.0, 157.0, 511.0, 278.0] in train_13605.jpg\n"
     ]
    },
    {
     "name": "stderr",
     "output_type": "stream",
     "text": [
      "Epoch 7 Training: 100%|████████████████████| 2600/2600 [15:42<00:00,  2.76it/s, loss=0.0101]  \n",
      "Validating:  84%|████████████████▊   | 547/650 [01:38<00:16,  6.17it/s]"
     ]
    },
    {
     "name": "stdout",
     "output_type": "stream",
     "text": [
      "发现无效框，已过滤: [457.0, 60.0, 457.0, 91.0] in train_13338.jpg\n"
     ]
    },
    {
     "name": "stderr",
     "output_type": "stream",
     "text": [
      "Validating: 100%|████████████████████| 650/650 [01:55<00:00,  5.63it/s]\n"
     ]
    },
    {
     "name": "stdout",
     "output_type": "stream",
     "text": [
      "\n",
      "Epoch 8/15\n",
      "Train Loss: 0.0246\n",
      "Validation Metrics: Precision=0.6373, Recall=0.8231, F1=0.7184\n"
     ]
    },
    {
     "name": "stderr",
     "output_type": "stream",
     "text": [
      "Epoch 8 Training:  20%|████                | 528/2600 [03:09<13:32,  2.55it/s, loss=0.0334]  "
     ]
    },
    {
     "name": "stdout",
     "output_type": "stream",
     "text": [
      "发现无效框，已过滤: [685.0, 159.0, 685.0, 215.0] in train_13679.jpg\n"
     ]
    },
    {
     "name": "stderr",
     "output_type": "stream",
     "text": [
      "Epoch 8 Training:  23%|████▋               | 609/2600 [03:38<13:23,  2.48it/s, loss=0.0444]  "
     ]
    },
    {
     "name": "stdout",
     "output_type": "stream",
     "text": [
      "发现无效框，已过滤: [152.0, 20.0, 152.0, 91.0] in train_13271.jpg\n"
     ]
    },
    {
     "name": "stderr",
     "output_type": "stream",
     "text": [
      "Epoch 8 Training:  49%|█████████▋          | 1267/2600 [07:38<08:30,  2.61it/s, loss=0.0276]  "
     ]
    },
    {
     "name": "stdout",
     "output_type": "stream",
     "text": [
      "发现无效框，已过滤: [511.0, 157.0, 511.0, 278.0] in train_13605.jpg\n"
     ]
    },
    {
     "name": "stderr",
     "output_type": "stream",
     "text": [
      "Epoch 8 Training:  75%|██████████████▉     | 1939/2600 [11:44<03:26,  3.20it/s, loss=0.0126]  "
     ]
    },
    {
     "name": "stdout",
     "output_type": "stream",
     "text": [
      "发现无效框，已过滤: [203.0, 19.0, 203.0, 89.0] in train_13554.jpg\n"
     ]
    },
    {
     "name": "stderr",
     "output_type": "stream",
     "text": [
      "Epoch 8 Training:  85%|████████████████▉   | 2208/2600 [13:24<02:18,  2.84it/s, loss=0.0573]  "
     ]
    },
    {
     "name": "stdout",
     "output_type": "stream",
     "text": [
      "发现无效框，已过滤: [165.0, 111.0, 165.0, 179.0] in train_13134.jpg\n"
     ]
    },
    {
     "name": "stderr",
     "output_type": "stream",
     "text": [
      "Epoch 8 Training: 100%|████████████████████| 2600/2600 [15:46<00:00,  2.75it/s, loss=0.0351]  \n",
      "Validating:  84%|████████████████▊   | 547/650 [01:37<00:16,  6.18it/s]"
     ]
    },
    {
     "name": "stdout",
     "output_type": "stream",
     "text": [
      "发现无效框，已过滤: [457.0, 60.0, 457.0, 91.0] in train_13338.jpg\n"
     ]
    },
    {
     "name": "stderr",
     "output_type": "stream",
     "text": [
      "Validating: 100%|████████████████████| 650/650 [01:55<00:00,  5.65it/s]\n"
     ]
    },
    {
     "name": "stdout",
     "output_type": "stream",
     "text": [
      "\n",
      "Epoch 9/15\n",
      "Train Loss: 0.0245\n",
      "Validation Metrics: Precision=0.6058, Recall=0.8321, F1=0.7011\n"
     ]
    },
    {
     "name": "stderr",
     "output_type": "stream",
     "text": [
      "Epoch 9 Training:   1%|▏                   | 29/2600 [00:09<15:06,  2.84it/s, loss=0.0526]  "
     ]
    },
    {
     "name": "stdout",
     "output_type": "stream",
     "text": [
      "发现无效框，已过滤: [511.0, 157.0, 511.0, 278.0] in train_13605.jpg\n"
     ]
    },
    {
     "name": "stderr",
     "output_type": "stream",
     "text": [
      "Epoch 9 Training:  14%|██▊                 | 371/2600 [02:09<12:03,  3.08it/s, loss=0.0199]  "
     ]
    },
    {
     "name": "stdout",
     "output_type": "stream",
     "text": [
      "发现无效框，已过滤: [685.0, 159.0, 685.0, 215.0] in train_13679.jpg\n"
     ]
    },
    {
     "name": "stderr",
     "output_type": "stream",
     "text": [
      "Epoch 9 Training:  36%|███████▎            | 943/2600 [05:38<09:58,  2.77it/s, loss=0.000633]"
     ]
    },
    {
     "name": "stdout",
     "output_type": "stream",
     "text": [
      "发现无效框，已过滤: [203.0, 19.0, 203.0, 89.0] in train_13554.jpg\n"
     ]
    },
    {
     "name": "stderr",
     "output_type": "stream",
     "text": [
      "Epoch 9 Training:  39%|███████▊            | 1012/2600 [06:04<10:48,  2.45it/s, loss=0.00841]"
     ]
    },
    {
     "name": "stdout",
     "output_type": "stream",
     "text": [
      "发现无效框，已过滤: [165.0, 111.0, 165.0, 179.0] in train_13134.jpg\n"
     ]
    },
    {
     "name": "stderr",
     "output_type": "stream",
     "text": [
      "Epoch 9 Training:  88%|█████████████████▋  | 2299/2600 [13:55<01:42,  2.92it/s, loss=0.0475]  "
     ]
    },
    {
     "name": "stdout",
     "output_type": "stream",
     "text": [
      "发现无效框，已过滤: [152.0, 20.0, 152.0, 91.0] in train_13271.jpg\n"
     ]
    },
    {
     "name": "stderr",
     "output_type": "stream",
     "text": [
      "Epoch 9 Training: 100%|████████████████████| 2600/2600 [15:45<00:00,  2.75it/s, loss=0.0189]  \n",
      "Validating:  84%|████████████████▊   | 547/650 [01:38<00:16,  6.17it/s]"
     ]
    },
    {
     "name": "stdout",
     "output_type": "stream",
     "text": [
      "发现无效框，已过滤: [457.0, 60.0, 457.0, 91.0] in train_13338.jpg\n"
     ]
    },
    {
     "name": "stderr",
     "output_type": "stream",
     "text": [
      "Validating: 100%|████████████████████| 650/650 [01:55<00:00,  5.61it/s]\n"
     ]
    },
    {
     "name": "stdout",
     "output_type": "stream",
     "text": [
      "\n",
      "Epoch 10/15\n",
      "Train Loss: 0.0242\n",
      "Validation Metrics: Precision=0.6295, Recall=0.8249, F1=0.7141\n"
     ]
    },
    {
     "name": "stderr",
     "output_type": "stream",
     "text": [
      "Epoch 10 Training:  10%|██                  | 270/2600 [01:40<14:24,  2.69it/s, loss=0.0179]  "
     ]
    },
    {
     "name": "stdout",
     "output_type": "stream",
     "text": [
      "发现无效框，已过滤: [165.0, 111.0, 165.0, 179.0] in train_13134.jpg\n"
     ]
    },
    {
     "name": "stderr",
     "output_type": "stream",
     "text": [
      "Epoch 10 Training:  35%|███████             | 913/2600 [05:32<10:00,  2.81it/s, loss=0.0125]  "
     ]
    },
    {
     "name": "stdout",
     "output_type": "stream",
     "text": [
      "发现无效框，已过滤: [203.0, 19.0, 203.0, 89.0] in train_13554.jpg\n"
     ]
    },
    {
     "name": "stderr",
     "output_type": "stream",
     "text": [
      "Epoch 10 Training:  36%|███████▎            | 944/2600 [05:43<10:04,  2.74it/s, loss=0.0283] "
     ]
    },
    {
     "name": "stdout",
     "output_type": "stream",
     "text": [
      "发现无效框，已过滤: [685.0, 159.0, 685.0, 215.0] in train_13679.jpg\n"
     ]
    },
    {
     "name": "stderr",
     "output_type": "stream",
     "text": [
      "Epoch 10 Training:  72%|██████████████▍     | 1874/2600 [11:27<04:22,  2.76it/s, loss=0.0201]  "
     ]
    },
    {
     "name": "stdout",
     "output_type": "stream",
     "text": [
      "发现无效框，已过滤: [511.0, 157.0, 511.0, 278.0] in train_13605.jpg\n"
     ]
    },
    {
     "name": "stderr",
     "output_type": "stream",
     "text": [
      "Epoch 10 Training:  74%|██████████████▊     | 1931/2600 [11:47<04:00,  2.78it/s, loss=0.0333]  "
     ]
    },
    {
     "name": "stdout",
     "output_type": "stream",
     "text": [
      "发现无效框，已过滤: [152.0, 20.0, 152.0, 91.0] in train_13271.jpg\n"
     ]
    },
    {
     "name": "stderr",
     "output_type": "stream",
     "text": [
      "Epoch 10 Training: 100%|████████████████████| 2600/2600 [15:49<00:00,  2.74it/s, loss=0.0262]  \n",
      "Validating:  84%|████████████████▊   | 547/650 [01:37<00:16,  6.21it/s]"
     ]
    },
    {
     "name": "stdout",
     "output_type": "stream",
     "text": [
      "发现无效框，已过滤: [457.0, 60.0, 457.0, 91.0] in train_13338.jpg\n"
     ]
    },
    {
     "name": "stderr",
     "output_type": "stream",
     "text": [
      "Validating: 100%|████████████████████| 650/650 [01:55<00:00,  5.64it/s]\n"
     ]
    },
    {
     "name": "stdout",
     "output_type": "stream",
     "text": [
      "\n",
      "Epoch 11/15\n",
      "Train Loss: 0.0242\n",
      "Validation Metrics: Precision=0.6282, Recall=0.8249, F1=0.7132\n"
     ]
    },
    {
     "name": "stderr",
     "output_type": "stream",
     "text": [
      "Epoch 11 Training:  16%|███▏                | 420/2600 [02:35<13:48,  2.63it/s, loss=0.062]   "
     ]
    },
    {
     "name": "stdout",
     "output_type": "stream",
     "text": [
      "发现无效框，已过滤: [203.0, 19.0, 203.0, 89.0] in train_13554.jpg\n"
     ]
    },
    {
     "name": "stderr",
     "output_type": "stream",
     "text": [
      "Epoch 11 Training:  24%|████▉               | 634/2600 [03:54<11:37,  2.82it/s, loss=0.0788]  "
     ]
    },
    {
     "name": "stdout",
     "output_type": "stream",
     "text": [
      "发现无效框，已过滤: [685.0, 159.0, 685.0, 215.0] in train_13679.jpg\n"
     ]
    },
    {
     "name": "stderr",
     "output_type": "stream",
     "text": [
      "Epoch 11 Training:  44%|████████▉           | 1156/2600 [07:03<09:28,  2.54it/s, loss=0.0109]  "
     ]
    },
    {
     "name": "stdout",
     "output_type": "stream",
     "text": [
      "发现无效框，已过滤: [165.0, 111.0, 165.0, 179.0] in train_13134.jpg\n"
     ]
    },
    {
     "name": "stderr",
     "output_type": "stream",
     "text": [
      "Epoch 11 Training:  59%|███████████▊        | 1541/2600 [09:22<06:51,  2.57it/s, loss=0.0105]  "
     ]
    },
    {
     "name": "stdout",
     "output_type": "stream",
     "text": [
      "发现无效框，已过滤: [511.0, 157.0, 511.0, 278.0] in train_13605.jpg\n"
     ]
    },
    {
     "name": "stderr",
     "output_type": "stream",
     "text": [
      "Epoch 11 Training:  70%|█████████████▉      | 1817/2600 [10:59<04:30,  2.89it/s, loss=0.0386]  "
     ]
    },
    {
     "name": "stdout",
     "output_type": "stream",
     "text": [
      "发现无效框，已过滤: [152.0, 20.0, 152.0, 91.0] in train_13271.jpg\n"
     ]
    },
    {
     "name": "stderr",
     "output_type": "stream",
     "text": [
      "Epoch 11 Training: 100%|████████████████████| 2600/2600 [15:44<00:00,  2.75it/s, loss=0.0313]  \n",
      "Validating:  84%|████████████████▊   | 547/650 [01:37<00:16,  6.13it/s]"
     ]
    },
    {
     "name": "stdout",
     "output_type": "stream",
     "text": [
      "发现无效框，已过滤: [457.0, 60.0, 457.0, 91.0] in train_13338.jpg\n"
     ]
    },
    {
     "name": "stderr",
     "output_type": "stream",
     "text": [
      "Validating: 100%|████████████████████| 650/650 [01:55<00:00,  5.63it/s]\n"
     ]
    },
    {
     "name": "stdout",
     "output_type": "stream",
     "text": [
      "\n",
      "Epoch 12/15\n",
      "Train Loss: 0.0242\n",
      "Validation Metrics: Precision=0.6329, Recall=0.8231, F1=0.7156\n"
     ]
    },
    {
     "name": "stderr",
     "output_type": "stream",
     "text": [
      "Epoch 12 Training:   9%|█▊                  | 241/2600 [01:28<12:33,  3.13it/s, loss=0.00848] "
     ]
    },
    {
     "name": "stdout",
     "output_type": "stream",
     "text": [
      "发现无效框，已过滤: [511.0, 157.0, 511.0, 278.0] in train_13605.jpg\n"
     ]
    },
    {
     "name": "stderr",
     "output_type": "stream",
     "text": [
      "Epoch 12 Training:  44%|████████▊           | 1151/2600 [06:57<08:25,  2.87it/s, loss=0.00119] "
     ]
    },
    {
     "name": "stdout",
     "output_type": "stream",
     "text": [
      "发现无效框，已过滤: [203.0, 19.0, 203.0, 89.0] in train_13554.jpg\n"
     ]
    },
    {
     "name": "stderr",
     "output_type": "stream",
     "text": [
      "Epoch 12 Training:  82%|████████████████▍   | 2134/2600 [12:59<03:19,  2.33it/s, loss=0.00878] "
     ]
    },
    {
     "name": "stdout",
     "output_type": "stream",
     "text": [
      "发现无效框，已过滤: [685.0, 159.0, 685.0, 215.0] in train_13679.jpg\n"
     ]
    },
    {
     "name": "stderr",
     "output_type": "stream",
     "text": [
      "Epoch 12 Training:  83%|████████████████▋   | 2164/2600 [13:11<02:47,  2.61it/s, loss=0.00895] "
     ]
    },
    {
     "name": "stdout",
     "output_type": "stream",
     "text": [
      "发现无效框，已过滤: [165.0, 111.0, 165.0, 179.0] in train_13134.jpg\n"
     ]
    },
    {
     "name": "stderr",
     "output_type": "stream",
     "text": [
      "Epoch 12 Training:  93%|██████████████████▋ | 2423/2600 [14:48<01:07,  2.62it/s, loss=0.0279]  "
     ]
    },
    {
     "name": "stdout",
     "output_type": "stream",
     "text": [
      "发现无效框，已过滤: [152.0, 20.0, 152.0, 91.0] in train_13271.jpg\n"
     ]
    },
    {
     "name": "stderr",
     "output_type": "stream",
     "text": [
      "Epoch 12 Training: 100%|████████████████████| 2600/2600 [15:52<00:00,  2.73it/s, loss=0.0146]  \n",
      "Validating:  84%|████████████████▊   | 547/650 [01:37<00:16,  6.18it/s]"
     ]
    },
    {
     "name": "stdout",
     "output_type": "stream",
     "text": [
      "发现无效框，已过滤: [457.0, 60.0, 457.0, 91.0] in train_13338.jpg\n"
     ]
    },
    {
     "name": "stderr",
     "output_type": "stream",
     "text": [
      "Validating: 100%|████████████████████| 650/650 [01:55<00:00,  5.65it/s]\n"
     ]
    },
    {
     "name": "stdout",
     "output_type": "stream",
     "text": [
      "\n",
      "Epoch 13/15\n",
      "Train Loss: 0.0242\n",
      "Validation Metrics: Precision=0.6325, Recall=0.8231, F1=0.7153\n"
     ]
    },
    {
     "name": "stderr",
     "output_type": "stream",
     "text": [
      "Epoch 13 Training:  10%|██                  | 265/2600 [01:35<13:35,  2.86it/s, loss=0.0324]  "
     ]
    },
    {
     "name": "stdout",
     "output_type": "stream",
     "text": [
      "发现无效框，已过滤: [685.0, 159.0, 685.0, 215.0] in train_13679.jpg\n"
     ]
    },
    {
     "name": "stderr",
     "output_type": "stream",
     "text": [
      "Epoch 13 Training:  18%|███▌                | 458/2600 [02:47<17:52,  2.00it/s, loss=0.00498] "
     ]
    },
    {
     "name": "stdout",
     "output_type": "stream",
     "text": [
      "发现无效框，已过滤: [152.0, 20.0, 152.0, 91.0] in train_13271.jpg\n"
     ]
    },
    {
     "name": "stderr",
     "output_type": "stream",
     "text": [
      "Epoch 13 Training:  25%|████▉               | 648/2600 [03:57<11:48,  2.76it/s, loss=0.0166]  "
     ]
    },
    {
     "name": "stdout",
     "output_type": "stream",
     "text": [
      "发现无效框，已过滤: [203.0, 19.0, 203.0, 89.0] in train_13554.jpg\n"
     ]
    },
    {
     "name": "stderr",
     "output_type": "stream",
     "text": [
      "Epoch 13 Training:  35%|██████▉             | 898/2600 [05:27<11:15,  2.52it/s, loss=0.0152]  "
     ]
    },
    {
     "name": "stdout",
     "output_type": "stream",
     "text": [
      "发现无效框，已过滤: [165.0, 111.0, 165.0, 179.0] in train_13134.jpg\n"
     ]
    },
    {
     "name": "stderr",
     "output_type": "stream",
     "text": [
      "Epoch 13 Training:  87%|█████████████████▍  | 2263/2600 [13:38<02:17,  2.45it/s, loss=0.00151] "
     ]
    },
    {
     "name": "stdout",
     "output_type": "stream",
     "text": [
      "发现无效框，已过滤: [511.0, 157.0, 511.0, 278.0] in train_13605.jpg\n"
     ]
    },
    {
     "name": "stderr",
     "output_type": "stream",
     "text": [
      "Epoch 13 Training: 100%|████████████████████| 2600/2600 [15:40<00:00,  2.76it/s, loss=0.0187]  \n",
      "Validating:  84%|████████████████▊   | 547/650 [01:37<00:16,  6.19it/s]"
     ]
    },
    {
     "name": "stdout",
     "output_type": "stream",
     "text": [
      "发现无效框，已过滤: [457.0, 60.0, 457.0, 91.0] in train_13338.jpg\n"
     ]
    },
    {
     "name": "stderr",
     "output_type": "stream",
     "text": [
      "Validating: 100%|████████████████████| 650/650 [01:55<00:00,  5.65it/s]\n"
     ]
    },
    {
     "name": "stdout",
     "output_type": "stream",
     "text": [
      "\n",
      "Epoch 14/15\n",
      "Train Loss: 0.0242\n",
      "Validation Metrics: Precision=0.6323, Recall=0.8240, F1=0.7155\n"
     ]
    },
    {
     "name": "stderr",
     "output_type": "stream",
     "text": [
      "Epoch 14 Training:   8%|█▌                  | 201/2600 [01:13<15:52,  2.52it/s, loss=0.0277]  "
     ]
    },
    {
     "name": "stdout",
     "output_type": "stream",
     "text": [
      "发现无效框，已过滤: [685.0, 159.0, 685.0, 215.0] in train_13679.jpg\n"
     ]
    },
    {
     "name": "stderr",
     "output_type": "stream",
     "text": [
      "Epoch 14 Training:  30%|█████▉              | 769/2600 [04:38<11:18,  2.70it/s, loss=0.015]   "
     ]
    },
    {
     "name": "stdout",
     "output_type": "stream",
     "text": [
      "发现无效框，已过滤: [152.0, 20.0, 152.0, 91.0] in train_13271.jpg\n"
     ]
    },
    {
     "name": "stderr",
     "output_type": "stream",
     "text": [
      "Epoch 14 Training:  34%|██████▋             | 876/2600 [05:14<09:07,  3.15it/s, loss=0.0217]  "
     ]
    },
    {
     "name": "stdout",
     "output_type": "stream",
     "text": [
      "发现无效框，已过滤: [203.0, 19.0, 203.0, 89.0] in train_13554.jpg\n"
     ]
    },
    {
     "name": "stderr",
     "output_type": "stream",
     "text": [
      "Epoch 14 Training:  36%|███████             | 924/2600 [05:32<10:46,  2.59it/s, loss=0.0259]  "
     ]
    },
    {
     "name": "stdout",
     "output_type": "stream",
     "text": [
      "发现无效框，已过滤: [511.0, 157.0, 511.0, 278.0] in train_13605.jpg\n"
     ]
    },
    {
     "name": "stderr",
     "output_type": "stream",
     "text": [
      "Epoch 14 Training:  53%|██████████▌         | 1374/2600 [08:15<07:33,  2.71it/s, loss=0.0463]  "
     ]
    },
    {
     "name": "stdout",
     "output_type": "stream",
     "text": [
      "发现无效框，已过滤: [165.0, 111.0, 165.0, 179.0] in train_13134.jpg\n"
     ]
    },
    {
     "name": "stderr",
     "output_type": "stream",
     "text": [
      "Epoch 14 Training: 100%|████████████████████| 2600/2600 [15:43<00:00,  2.76it/s, loss=0.0302]  \n",
      "Validating:  84%|████████████████▊   | 547/650 [01:39<00:16,  6.16it/s]"
     ]
    },
    {
     "name": "stdout",
     "output_type": "stream",
     "text": [
      "发现无效框，已过滤: [457.0, 60.0, 457.0, 91.0] in train_13338.jpg\n"
     ]
    },
    {
     "name": "stderr",
     "output_type": "stream",
     "text": [
      "Validating: 100%|████████████████████| 650/650 [01:56<00:00,  5.58it/s]\n"
     ]
    },
    {
     "name": "stdout",
     "output_type": "stream",
     "text": [
      "\n",
      "Epoch 15/15\n",
      "Train Loss: 0.0242\n",
      "Validation Metrics: Precision=0.6318, Recall=0.8240, F1=0.7152\n"
     ]
    },
    {
     "name": "stderr",
     "output_type": "stream",
     "text": [
      "Validating:  84%|████████████████▊   | 547/650 [01:37<00:17,  6.05it/s]"
     ]
    },
    {
     "name": "stdout",
     "output_type": "stream",
     "text": [
      "发现无效框，已过滤: [457.0, 60.0, 457.0, 91.0] in train_13338.jpg\n"
     ]
    },
    {
     "name": "stderr",
     "output_type": "stream",
     "text": [
      "Validating: 100%|████████████████████| 650/650 [01:55<00:00,  5.63it/s]"
     ]
    },
    {
     "name": "stdout",
     "output_type": "stream",
     "text": [
      "\n",
      "==================================================\n",
      "最终评估结果: Precision=0.6689, Recall=0.8005, F1=0.7288\n",
      "==================================================\n",
      "Training metrics saved to training_metrics.csv\n"
     ]
    },
    {
     "name": "stderr",
     "output_type": "stream",
     "text": [
      "\n"
     ]
    }
   ],
   "source": [
    "import random\n",
    "from torchvision.ops import box_iou\n",
    "import os\n",
    "import json\n",
    "import torch\n",
    "import torchvision\n",
    "from torchvision.models.detection.faster_rcnn import FastRCNNPredictor\n",
    "from torch.utils.data import Dataset, DataLoader, random_split\n",
    "from PIL import Image\n",
    "import numpy as np\n",
    "from tqdm import tqdm\n",
    "from torchvision.transforms import functional as F\n",
    "os.environ['KMP_DUPLICATE_LIB_OK']='True'\n",
    "\n",
    "\n",
    "class Compose:\n",
    "    def __init__(self, transforms):\n",
    "        self.transforms = transforms\n",
    "\n",
    "    def __call__(self, image, target):\n",
    "        for t in self.transforms:\n",
    "            image, target = t(image, target)\n",
    "        return image, target\n",
    "\n",
    "\n",
    "class ToTensor:\n",
    "    def __call__(self, image, target):\n",
    "        return F.to_tensor(image), target\n",
    "\n",
    "class RandomHorizontalFlip:\n",
    "    def __init__(self, prob=0.5):\n",
    "        self.prob = prob\n",
    "\n",
    "    def __call__(self, image, target):\n",
    "        if random.random() < self.prob:\n",
    "            _, width = image.shape[-1], image.shape[-2] if isinstance(image, torch.Tensor) else image.size\n",
    "            image = F.hflip(image)\n",
    "            boxes = target[\"boxes\"].clone()\n",
    "            boxes[:, [0, 2]] = width - boxes[:, [2, 0]]  # 翻转x坐标\n",
    "            # 确保坐标顺序正确\n",
    "            xmin = torch.min(boxes[:, 0], boxes[:, 2])\n",
    "            xmax = torch.max(boxes[:, 0], boxes[:, 2])\n",
    "            ymin = boxes[:, 1]\n",
    "            ymax = boxes[:, 3]\n",
    "            target[\"boxes\"] = torch.stack((xmin, ymin, xmax, ymax), dim=1)\n",
    "        return image, target\n",
    "\n",
    "class DocumentTamperDataset(Dataset):\n",
    "    def __init__(self, image_dir, annotation_path, DEBUG_SUBSET_SIZE, transforms=None, debug_mode=False):\n",
    "        self.image_dir = image_dir\n",
    "        self.transforms = transforms\n",
    "        with open(annotation_path) as f:\n",
    "            self.annotations = json.load(f)\n",
    "        if debug_mode:\n",
    "            self.annotations = self.annotations[:DEBUG_SUBSET_SIZE]\n",
    "        self.id_to_anns = {item['id']: item['region'] for item in self.annotations}\n",
    "        self.ids = list(self.id_to_anns.keys())\n",
    "\n",
    "    def __getitem__(self, idx):\n",
    "        img_id = self.ids[idx]\n",
    "        img_path = os.path.join(self.image_dir, img_id)\n",
    "        img = Image.open(img_path).convert(\"RGB\")\n",
    "        regions = self.id_to_anns[img_id]\n",
    "\n",
    "        boxes = []\n",
    "        for region in regions:\n",
    "            if len(region) != 4:\n",
    "                continue  # 跳过不符合要求的区域\n",
    "            coords = list(map(float, region))\n",
    "            x1, y1, x2, y2 = coords\n",
    "            xmin, xmax = sorted([x1, x2])\n",
    "            ymin, ymax = sorted([y1, y2])\n",
    "            if xmin >= xmax or ymin >= ymax:\n",
    "                print(f\"发现无效框，已过滤: {coords} in {img_id}\")\n",
    "                continue\n",
    "            boxes.append([xmin, ymin, xmax, ymax])\n",
    "\n",
    "        if len(boxes) == 0:\n",
    "            boxes = torch.zeros((0, 4), dtype=torch.float32)\n",
    "        else:\n",
    "            boxes = torch.as_tensor(boxes, dtype=torch.float32)\n",
    "        labels = torch.ones((len(boxes),), dtype=torch.int64)  \n",
    "        target = {\n",
    "            \"boxes\": boxes,\n",
    "            \"labels\": torch.ones((len(boxes),), dtype=torch.int64), \n",
    "            \"image_id\": torch.tensor([idx])\n",
    "            }\n",
    "\n",
    "        if self.transforms:\n",
    "            img, target = self.transforms(img, target)\n",
    "            \n",
    "        return img, target\n",
    "\n",
    "    def __len__(self):\n",
    "        return len(self.ids)\n",
    "\n",
    "\n",
    "def get_transform(train=True):\n",
    "    transforms = []\n",
    "    if train:\n",
    "        transforms.append(RandomHorizontalFlip(0.5))\n",
    "    transforms.append(ToTensor())\n",
    "    return Compose(transforms)\n",
    "\n",
    "# 创建模型\n",
    "def create_model(num_classes=2):\n",
    "    model = torchvision.models.detection.fasterrcnn_resnet50_fpn(pretrained=True)\n",
    "    in_features = model.roi_heads.box_predictor.cls_score.in_features\n",
    "    model.roi_heads.box_predictor = FastRCNNPredictor(in_features, num_classes)\n",
    "    return model\n",
    "\n",
    "# 训练函数\n",
    "def train_one_epoch(model, optimizer, data_loader, device, epoch):\n",
    "    model.train()\n",
    "    \n",
    "    total_loss = 0\n",
    "    progress_bar = tqdm(data_loader, \n",
    "                       desc=f\"Epoch {epoch} Training\",\n",
    "                       leave=True,  \n",
    "                       dynamic_ncols=True,  \n",
    "                       bar_format=\"{l_bar}{bar:20}{r_bar}\")\n",
    "    \n",
    "    for images, targets in progress_bar:\n",
    "        images = list(image.to(device) for image in images)\n",
    "        targets = [{k: v.to(device) for k, v in t.items()} for t in targets]\n",
    "        \n",
    "        loss_dict = model(images, targets)\n",
    "        losses = sum(loss for loss in loss_dict.values())\n",
    "        \n",
    "        optimizer.zero_grad()\n",
    "        losses.backward()\n",
    "        optimizer.step()\n",
    "        \n",
    "        total_loss += losses.item()\n",
    "        progress_bar.set_postfix(loss=losses.item())\n",
    "    \n",
    "    return total_loss / len(data_loader)\n",
    "\n",
    "def calculate_metrics(pred_boxes, true_boxes, iou_threshold=0.5):\n",
    "    \"\"\"\n",
    "    计算单个样本的TP、FP、FN\n",
    "    \"\"\"\n",
    "    if len(pred_boxes) == 0:\n",
    "        return 0, 0, len(true_boxes)\n",
    "    \n",
    "    if len(true_boxes) == 0:\n",
    "        return 0, len(pred_boxes), 0\n",
    "\n",
    "    iou_matrix = box_iou(pred_boxes, true_boxes)\n",
    "\n",
    "    matched_true = set()\n",
    "    matched_pred = set()\n",
    "\n",
    "    for true_idx in range(len(true_boxes)):\n",
    "        best_iou = iou_threshold\n",
    "        best_pred = -1\n",
    "        for pred_idx in range(len(pred_boxes)):\n",
    "            iou = iou_matrix[pred_idx, true_idx]\n",
    "            if iou > best_iou:\n",
    "                best_iou = iou\n",
    "                best_pred = pred_idx\n",
    "        if best_pred != -1 and best_pred not in matched_pred:\n",
    "            matched_true.add(true_idx)\n",
    "            matched_pred.add(best_pred)\n",
    "    \n",
    "    tp = len(matched_true)\n",
    "    fp = len(pred_boxes) - len(matched_pred)\n",
    "    fn = len(true_boxes) - len(matched_true)\n",
    "    \n",
    "    return tp, fp, fn\n",
    "\n",
    "def evaluate(model, data_loader, device):\n",
    "    model.eval()\n",
    "    \n",
    "    total_tp = 0\n",
    "    total_fp = 0\n",
    "    total_fn = 0\n",
    "    \n",
    "    progress_bar = tqdm(data_loader, \n",
    "                       desc=\"Validating\",\n",
    "                       leave=True,\n",
    "                       dynamic_ncols=True,\n",
    "                       bar_format=\"{l_bar}{bar:20}{r_bar}\")\n",
    "    \n",
    "    with torch.no_grad():\n",
    "        for images, targets in progress_bar:\n",
    "            images = list(img.to(device) for img in images)\n",
    "            targets = [{k: v.to(device) for k, v in t.items()} for t in targets]\n",
    "            \n",
    "            predictions = model(images)\n",
    "            \n",
    "            for pred, true in zip(predictions, targets):\n",
    "                keep = pred['scores'] > 0.5\n",
    "                pred_boxes = pred['boxes'][keep].cpu()\n",
    "                true_boxes = true['boxes'].cpu()\n",
    "                \n",
    "                tp, fp, fn = calculate_metrics(pred_boxes, true_boxes)\n",
    "                \n",
    "                total_tp += tp\n",
    "                total_fp += fp\n",
    "                total_fn += fn\n",
    "\n",
    "    # 转换为浮点数（不再使用.item()）    precision = total_tp / (total_tp + total_fp + 1e-10)\n",
    "    recall = total_tp / (total_tp + total_fn + 1e-10)\n",
    "    f1 = 2 * (precision * recall) / (precision + recall + 1e-10)\n",
    "    \n",
    "    return {\n",
    "        \"Micro_Prec\": float(precision),\n",
    "        \"Micro_Recall\": float(recall),\n",
    "        \"Micro_F1\": float(f1)\n",
    "    }\n",
    "\n",
    "import os\n",
    "import pandas as pd\n",
    "import matplotlib.pyplot as plt\n",
    "from torchvision.utils import save_image\n",
    "\n",
    "def main():\n",
    "    # 超参数配置\n",
    "    BATCH_SIZE = 4\n",
    "    NUM_EPOCHS = 15\n",
    "    LR = 0.005\n",
    "    VAL_SPLIT = 0.2\n",
    "    DEBUG_MODE = False\n",
    "    DEBUG_SUBSET_SIZE = 10\n",
    "    \n",
    "    device = torch.device(\"cuda\" if torch.cuda.is_available() else \"cpu\")\n",
    "    \n",
    "    # 数据集加载\n",
    "    full_dataset = DocumentTamperDataset(\n",
    "        image_dir=\"train/images\",\n",
    "        annotation_path=\"train/label_train.json\",\n",
    "        DEBUG_SUBSET_SIZE=DEBUG_SUBSET_SIZE,\n",
    "        transforms=get_transform(train=True),\n",
    "        debug_mode=DEBUG_MODE\n",
    "    )\n",
    "    \n",
    "    # 数据划分\n",
    "    dataset_size = len(full_dataset)\n",
    "    val_size = int(VAL_SPLIT * dataset_size)\n",
    "    train_size = dataset_size - val_size\n",
    "    train_dataset, val_dataset = random_split(full_dataset, [train_size, val_size], generator=torch.Generator().manual_seed(42))\n",
    "    val_dataset.dataset.transforms = get_transform(train=False)\n",
    "    \n",
    "    # 数据加载器\n",
    "    train_loader = DataLoader(train_dataset, batch_size=BATCH_SIZE, shuffle=True, collate_fn=lambda x: tuple(zip(*x)))\n",
    "    val_loader = DataLoader(val_dataset, batch_size=BATCH_SIZE, shuffle=False, collate_fn=lambda x: tuple(zip(*x)))\n",
    "    \n",
    "    # 初始化模型\n",
    "    model = create_model(num_classes=2)\n",
    "    model.to(device)\n",
    "    \n",
    "    # 优化器配置\n",
    "    params = [p for p in model.parameters() if p.requires_grad]\n",
    "    optimizer = torch.optim.SGD(params, lr=LR, momentum=0.9, weight_decay=0.0005)\n",
    "    lr_scheduler = torch.optim.lr_scheduler.StepLR(optimizer, step_size=3, gamma=0.1)\n",
    "    metrics_history = []\n",
    "    \n",
    "    # 训练循环\n",
    "    best_f1 = 0\n",
    "    for epoch in range(NUM_EPOCHS):\n",
    "        train_loss = train_one_epoch(model, optimizer, train_loader, device, epoch)\n",
    "        val_metrics = evaluate(model, val_loader, device)\n",
    "        lr_scheduler.step()\n",
    "        \n",
    "        print(f\"\\nEpoch {epoch+1}/{NUM_EPOCHS}\")\n",
    "        print(f\"Train Loss: {train_loss:.4f}\")\n",
    "        print(f\"Validation Metrics: Precision={val_metrics['Micro_Prec']:.4f}, Recall={val_metrics['Micro_Recall']:.4f}, F1={val_metrics['Micro_F1']:.4f}\")\n",
    "        \n",
    "        # 保存当前epoch的指标\n",
    "        metrics_history.append({\n",
    "            \"Epoch\": epoch + 1,\n",
    "            \"Train_Loss\": train_loss,\n",
    "            \"Precision\": val_metrics[\"Micro_Prec\"],\n",
    "            \"Recall\": val_metrics[\"Micro_Recall\"],\n",
    "            \"F1\": val_metrics[\"Micro_F1\"]\n",
    "        })\n",
    "        \n",
    "        if val_metrics['Micro_F1'] > best_f1:\n",
    "            best_f1 = val_metrics['Micro_F1']\n",
    "            torch.save(model.state_dict(), \"best_model.pth\")\n",
    "            print(\"↦ 保存新最佳模型\")\n",
    "        \n",
    "\n",
    " \n",
    "    # 最终评估\n",
    "    model.load_state_dict(torch.load(\"best_model.pth\"))\n",
    "    final_metrics = evaluate(model, val_loader, device)\n",
    "    print(\"\\n\" + \"=\"*50)\n",
    "    print(f\"最终评估结果: Precision={final_metrics['Micro_Prec']:.4f}, Recall={final_metrics['Micro_Recall']:.4f}, F1={final_metrics['Micro_F1']:.4f}\")\n",
    "    print(\"=\"*50)\n",
    "\n",
    "    # 保存所有指标到CSV\n",
    "    save_metrics_to_csv(metrics_history)\n",
    "\n",
    "def save_metrics_to_csv(metrics_history, filename=\"training_metrics.csv\"):\n",
    "    \"\"\"保存训练过程中的指标到CSV文件\"\"\"\n",
    "    df = pd.DataFrame(metrics_history)\n",
    "    df.to_csv(filename, index=False)\n",
    "    print(f\"Training metrics saved to {filename}\")\n",
    "\n",
    "\n",
    "\n",
    "if __name__ == \"__main__\":\n",
    "    main()\n"
   ]
  },
  {
   "cell_type": "code",
   "execution_count": null,
   "id": "07efa583-d03c-4117-aab8-e051184ca570",
   "metadata": {},
   "outputs": [],
   "source": []
  }
 ],
 "metadata": {
  "kernelspec": {
   "display_name": "Python 3 (ipykernel)",
   "language": "python",
   "name": "python3"
  },
  "language_info": {
   "codemirror_mode": {
    "name": "ipython",
    "version": 3
   },
   "file_extension": ".py",
   "mimetype": "text/x-python",
   "name": "python",
   "nbconvert_exporter": "python",
   "pygments_lexer": "ipython3",
   "version": "3.12.3"
  }
 },
 "nbformat": 4,
 "nbformat_minor": 5
}
